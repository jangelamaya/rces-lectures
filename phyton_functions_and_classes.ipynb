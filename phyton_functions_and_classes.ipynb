{
 "cells": [
  {
   "cell_type": "markdown",
   "id": "a23fda09-0ff6-4d14-aea4-7867ac753179",
   "metadata": {},
   "source": [
    "# Python FUnctions (and Classes)"
   ]
  },
  {
   "cell_type": "markdown",
   "id": "df5b196b-4759-49d9-beff-2168fd63a456",
   "metadata": {},
   "source": [
    "## Functions"
   ]
  },
  {
   "cell_type": "code",
   "execution_count": 1,
   "id": "e1df9551-65e1-4d0f-a9c1-98871efefd94",
   "metadata": {},
   "outputs": [],
   "source": [
    "def say_hello():\n",
    "    \"\"\"Return the word hello.\"\"\"\n",
    "    return 'Hello'"
   ]
  },
  {
   "cell_type": "code",
   "execution_count": 2,
   "id": "1c676510-c688-4888-807d-7c4bac8b7ec2",
   "metadata": {},
   "outputs": [
    {
     "name": "stdout",
     "output_type": "stream",
     "text": [
      "Variable    Type        Data/Info\n",
      "---------------------------------\n",
      "say_hello   function    <function say_hello at 0x7f0e243ad940>\n"
     ]
    }
   ],
   "source": [
    "whos"
   ]
  },
  {
   "cell_type": "code",
   "execution_count": 3,
   "id": "9f685073-263e-490f-ae9c-36742a820436",
   "metadata": {},
   "outputs": [
    {
     "data": {
      "text/plain": [
       "function"
      ]
     },
     "execution_count": 3,
     "metadata": {},
     "output_type": "execute_result"
    }
   ],
   "source": [
    "type(say_hello)"
   ]
  },
  {
   "cell_type": "code",
   "execution_count": 4,
   "id": "c562adff-affa-4a06-999c-03a0efcf1068",
   "metadata": {
    "tags": []
   },
   "outputs": [
    {
     "data": {
      "text/plain": [
       "\u001b[0;31mSignature:\u001b[0m \u001b[0msay_hello\u001b[0m\u001b[0;34m(\u001b[0m\u001b[0;34m)\u001b[0m\u001b[0;34m\u001b[0m\u001b[0;34m\u001b[0m\u001b[0m\n",
       "\u001b[0;31mDocstring:\u001b[0m Return the word hello.\n",
       "\u001b[0;31mFile:\u001b[0m      /tmp/ipykernel_1582/1135883700.py\n",
       "\u001b[0;31mType:\u001b[0m      function\n"
      ]
     },
     "metadata": {},
     "output_type": "display_data"
    }
   ],
   "source": [
    "say_hello? "
   ]
  },
  {
   "cell_type": "code",
   "execution_count": 5,
   "id": "16454e65-c71f-4799-8649-a79a610a4fa0",
   "metadata": {},
   "outputs": [
    {
     "data": {
      "text/plain": [
       "'Hello'"
      ]
     },
     "execution_count": 5,
     "metadata": {},
     "output_type": "execute_result"
    }
   ],
   "source": [
    "say_hello()"
   ]
  },
  {
   "cell_type": "code",
   "execution_count": 18,
   "id": "1124261b-5d4e-4251-9494-815a82d3bdad",
   "metadata": {},
   "outputs": [],
   "source": [
    "def say_hello_to(name):\n",
    "    \"\"\"Return a greeting to a name.\"\"\"\n",
    "    return 'Hello ' + name  + ' !'"
   ]
  },
  {
   "cell_type": "code",
   "execution_count": 21,
   "id": "8cf46795-6767-4b7a-893f-3865e72a3fd6",
   "metadata": {},
   "outputs": [
    {
     "data": {
      "text/plain": [
       "'Hello Tim !'"
      ]
     },
     "execution_count": 21,
     "metadata": {},
     "output_type": "execute_result"
    }
   ],
   "source": [
    "say_hello_to('Tim')"
   ]
  },
  {
   "cell_type": "code",
   "execution_count": 22,
   "id": "4d663d27-fda0-4cbc-99d9-b2e232bcdeae",
   "metadata": {},
   "outputs": [
    {
     "ename": "TypeError",
     "evalue": "can only concatenate str (not \"int\") to str",
     "output_type": "error",
     "traceback": [
      "\u001b[0;31m---------------------------------------------------------------------------\u001b[0m",
      "\u001b[0;31mTypeError\u001b[0m                                 Traceback (most recent call last)",
      "Input \u001b[0;32mIn [22]\u001b[0m, in \u001b[0;36m<cell line: 1>\u001b[0;34m()\u001b[0m\n\u001b[0;32m----> 1\u001b[0m \u001b[43msay_hello_to\u001b[49m\u001b[43m(\u001b[49m\u001b[38;5;241;43m10\u001b[39;49m\u001b[43m)\u001b[49m\n",
      "Input \u001b[0;32mIn [18]\u001b[0m, in \u001b[0;36msay_hello_to\u001b[0;34m(name)\u001b[0m\n\u001b[1;32m      1\u001b[0m \u001b[38;5;28;01mdef\u001b[39;00m \u001b[38;5;21msay_hello_to\u001b[39m(name):\n\u001b[1;32m      2\u001b[0m     \u001b[38;5;124;03m\"\"\"Return a greeting to a name.\"\"\"\u001b[39;00m\n\u001b[0;32m----> 3\u001b[0m     \u001b[38;5;28;01mreturn\u001b[39;00m \u001b[38;5;124;43m'\u001b[39;49m\u001b[38;5;124;43mHello \u001b[39;49m\u001b[38;5;124;43m'\u001b[39;49m\u001b[43m \u001b[49m\u001b[38;5;241;43m+\u001b[39;49m\u001b[43m \u001b[49m\u001b[43mname\u001b[49m  \u001b[38;5;241m+\u001b[39m \u001b[38;5;124m'\u001b[39m\u001b[38;5;124m !\u001b[39m\u001b[38;5;124m'\u001b[39m\n",
      "\u001b[0;31mTypeError\u001b[0m: can only concatenate str (not \"int\") to str"
     ]
    }
   ],
   "source": [
    "say_hello_to(10)"
   ]
  },
  {
   "cell_type": "code",
   "execution_count": 23,
   "id": "9c3140a7-4306-4639-91ef-f926ad720521",
   "metadata": {},
   "outputs": [],
   "source": [
    "def say_hello_to(name):\n",
    "    \"\"\"Return a greeting to a name.\"\"\"\n",
    "    return 'Hello ' + str(name)  + ' !'"
   ]
  },
  {
   "cell_type": "code",
   "execution_count": 24,
   "id": "bbb36c01-fc2d-4171-876f-023b7b514a1f",
   "metadata": {},
   "outputs": [
    {
     "data": {
      "text/plain": [
       "'Hello 10 !'"
      ]
     },
     "execution_count": 24,
     "metadata": {},
     "output_type": "execute_result"
    }
   ],
   "source": [
    "say_hello_to(10)"
   ]
  },
  {
   "cell_type": "code",
   "execution_count": 28,
   "id": "1c38ea62-cac6-4dd9-8f98-cd4f8d1e0374",
   "metadata": {},
   "outputs": [
    {
     "ename": "SyntaxError",
     "evalue": "invalid syntax (486637599.py, line 4)",
     "output_type": "error",
     "traceback": [
      "\u001b[0;36m  Input \u001b[0;32mIn [28]\u001b[0;36m\u001b[0m\n\u001b[0;31m    else\u001b[0m\n\u001b[0m        ^\u001b[0m\n\u001b[0;31mSyntaxError\u001b[0m\u001b[0;31m:\u001b[0m invalid syntax\n"
     ]
    }
   ],
   "source": [
    "def say_hello_or_hola(name, spanish=False):\n",
    "    if spanish:\n",
    "        greeting ='Hola '\n",
    "    else\n",
    "        greeting ='Hello '\n",
    "    return greeting + name"
   ]
  },
  {
   "cell_type": "code",
   "execution_count": 29,
   "id": "2b6f432b-ec7d-4daa-b4d1-27fb4faeb02a",
   "metadata": {},
   "outputs": [
    {
     "ename": "NameError",
     "evalue": "name 'say_hello_or_hola' is not defined",
     "output_type": "error",
     "traceback": [
      "\u001b[0;31m---------------------------------------------------------------------------\u001b[0m",
      "\u001b[0;31mNameError\u001b[0m                                 Traceback (most recent call last)",
      "Input \u001b[0;32mIn [29]\u001b[0m, in \u001b[0;36m<cell line: 1>\u001b[0;34m()\u001b[0m\n\u001b[0;32m----> 1\u001b[0m \u001b[43msay_hello_or_hola\u001b[49m(\u001b[38;5;124m'\u001b[39m\u001b[38;5;124mTim\u001b[39m\u001b[38;5;124m'\u001b[39m,spanish\u001b[38;5;241m=\u001b[39m\u001b[38;5;28;01mTrue\u001b[39;00m)\n",
      "\u001b[0;31mNameError\u001b[0m: name 'say_hello_or_hola' is not defined"
     ]
    }
   ],
   "source": [
    "say_hello_or_hola('Tim',spanish=True)"
   ]
  },
  {
   "cell_type": "code",
   "execution_count": 30,
   "id": "21655d10-de93-4a7c-aa96-a756fcc87dea",
   "metadata": {},
   "outputs": [
    {
     "ename": "SyntaxError",
     "evalue": "invalid syntax (1883125404.py, line 1)",
     "output_type": "error",
     "traceback": [
      "\u001b[0;36m  Input \u001b[0;32mIn [30]\u001b[0;36m\u001b[0m\n\u001b[0;31m    defsay_hello_to_everyone(*args):\u001b[0m\n\u001b[0m                                    ^\u001b[0m\n\u001b[0;31mSyntaxError\u001b[0m\u001b[0;31m:\u001b[0m invalid syntax\n"
     ]
    }
   ],
   "source": [
    "defsay_hello_to_everyone(*args):\n",
    "    return ['Hello ' + str(a) for a in args]"
   ]
  },
  {
   "cell_type": "code",
   "execution_count": 31,
   "id": "aeece9ee-9bf8-4ea7-8e8c-ede632de6bf7",
   "metadata": {},
   "outputs": [
    {
     "ename": "NameError",
     "evalue": "name 'say_hello_to_everyone' is not defined",
     "output_type": "error",
     "traceback": [
      "\u001b[0;31m---------------------------------------------------------------------------\u001b[0m",
      "\u001b[0;31mNameError\u001b[0m                                 Traceback (most recent call last)",
      "Input \u001b[0;32mIn [31]\u001b[0m, in \u001b[0;36m<cell line: 1>\u001b[0;34m()\u001b[0m\n\u001b[0;32m----> 1\u001b[0m \u001b[43msay_hello_to_everyone\u001b[49m(\u001b[38;5;124m'\u001b[39m\u001b[38;5;124mTim\u001b[39m\u001b[38;5;124m'\u001b[39m,\u001b[38;5;124m'\u001b[39m\u001b[38;5;124mCaroline\u001b[39m\u001b[38;5;124m'\u001b[39m, \u001b[38;5;124m'\u001b[39m\u001b[38;5;124mRyan\u001b[39m\u001b[38;5;124m'\u001b[39m)\n",
      "\u001b[0;31mNameError\u001b[0m: name 'say_hello_to_everyone' is not defined"
     ]
    }
   ],
   "source": [
    "say_hello_to_everyone('Tim','Caroline', 'Ryan')"
   ]
  },
  {
   "cell_type": "markdown",
   "id": "cf51ee83-527c-46ad-a63d-43a184c367cb",
   "metadata": {},
   "source": [
    "# Namespaces"
   ]
  },
  {
   "cell_type": "code",
   "execution_count": 32,
   "id": "a3a98988-6bfe-436f-a6ff-a7f23e6d7819",
   "metadata": {},
   "outputs": [],
   "source": [
    "name='Tim'\n",
    "\n",
    "def print_name():\n",
    "    print(name)\n",
    "    \n",
    "def print_another_name():\n",
    "    name='Ryan'\n",
    "    print(name)"
   ]
  },
  {
   "cell_type": "code",
   "execution_count": 33,
   "id": "6d674590-574a-4ece-9879-84d5113b4287",
   "metadata": {},
   "outputs": [
    {
     "name": "stdout",
     "output_type": "stream",
     "text": [
      "Tim\n"
     ]
    }
   ],
   "source": [
    "print (name)"
   ]
  },
  {
   "cell_type": "code",
   "execution_count": 34,
   "id": "2598a6b4-9ac1-4bae-b5af-1ac5a9329046",
   "metadata": {},
   "outputs": [
    {
     "name": "stdout",
     "output_type": "stream",
     "text": [
      "Ryan\n"
     ]
    }
   ],
   "source": [
    "print_another_name()"
   ]
  },
  {
   "cell_type": "code",
   "execution_count": 35,
   "id": "b1f9fb71-a8e8-494e-aabf-1c5842ad68bd",
   "metadata": {},
   "outputs": [
    {
     "name": "stdout",
     "output_type": "stream",
     "text": [
      "Tim\n"
     ]
    }
   ],
   "source": [
    "print(name)"
   ]
  },
  {
   "cell_type": "markdown",
   "id": "112d21e1-753d-42ec-a6ca-cc7586de42f3",
   "metadata": {},
   "source": [
    "## Fibonacci Sequence"
   ]
  },
  {
   "cell_type": "code",
   "execution_count": 40,
   "id": "a220af9c-9b0e-40c2-97c1-7b3c7a773397",
   "metadata": {},
   "outputs": [],
   "source": [
    "def fib(n):\n",
    "    l=[1,1]\n",
    "    print(list(range(n-2)))\n",
    "    for i in range(n-2):\n",
    "        l.append(l[-1]+l[-2])\n",
    "        return l"
   ]
  },
  {
   "cell_type": "code",
   "execution_count": 44,
   "id": "2a24595a-804d-482d-9535-6afdf412f336",
   "metadata": {},
   "outputs": [
    {
     "name": "stdout",
     "output_type": "stream",
     "text": [
      "[0, 1, 2, 3, 4, 5, 6, 7, 8, 9, 10, 11, 12, 13, 14, 15, 16, 17, 18, 19, 20, 21, 22, 23, 24, 25, 26, 27, 28, 29, 30, 31, 32, 33, 34, 35, 36, 37, 38, 39, 40, 41, 42, 43, 44, 45, 46, 47, 48, 49, 50, 51, 52, 53, 54, 55, 56, 57, 58, 59, 60, 61, 62, 63, 64, 65, 66, 67, 68, 69, 70, 71, 72, 73, 74, 75, 76, 77, 78, 79, 80, 81, 82, 83, 84, 85, 86, 87, 88, 89, 90, 91, 92, 93, 94, 95, 96, 97]\n"
     ]
    },
    {
     "data": {
      "text/plain": [
       "[1, 1, 2]"
      ]
     },
     "execution_count": 44,
     "metadata": {},
     "output_type": "execute_result"
    }
   ],
   "source": [
    "fib(100)"
   ]
  },
  {
   "cell_type": "markdown",
   "id": "684bbb9b-678d-45f0-b03d-29935d5731e4",
   "metadata": {},
   "source": [
    "# Classes"
   ]
  },
  {
   "cell_type": "code",
   "execution_count": 56,
   "id": "7cf7d80a-f956-4c13-b628-9cc1db6e89cd",
   "metadata": {},
   "outputs": [],
   "source": [
    "class Hurricane:\n",
    "    \n",
    "    def _init_(self,name):\n",
    "        self.name=name"
   ]
  },
  {
   "cell_type": "code",
   "execution_count": 57,
   "id": "adbc0a05-5de4-47ef-8654-9c201a4c982d",
   "metadata": {},
   "outputs": [
    {
     "ename": "TypeError",
     "evalue": "Hurricane() takes no arguments",
     "output_type": "error",
     "traceback": [
      "\u001b[0;31m---------------------------------------------------------------------------\u001b[0m",
      "\u001b[0;31mTypeError\u001b[0m                                 Traceback (most recent call last)",
      "Input \u001b[0;32mIn [57]\u001b[0m, in \u001b[0;36m<cell line: 1>\u001b[0;34m()\u001b[0m\n\u001b[0;32m----> 1\u001b[0m h\u001b[38;5;241m=\u001b[39m\u001b[43mHurricane\u001b[49m\u001b[43m(\u001b[49m\u001b[38;5;124;43m'\u001b[39;49m\u001b[38;5;124;43mTim\u001b[39;49m\u001b[38;5;124;43m'\u001b[39;49m\u001b[43m)\u001b[49m\n",
      "\u001b[0;31mTypeError\u001b[0m: Hurricane() takes no arguments"
     ]
    }
   ],
   "source": [
    "h=Hurricane('Tim')"
   ]
  },
  {
   "cell_type": "code",
   "execution_count": null,
   "id": "ab7888dc-6007-4a91-901d-3f297b48890d",
   "metadata": {},
   "outputs": [],
   "source": []
  }
 ],
 "metadata": {
  "kernelspec": {
   "display_name": "Python 3 (ipykernel)",
   "language": "python",
   "name": "python3"
  },
  "language_info": {
   "codemirror_mode": {
    "name": "ipython",
    "version": 3
   },
   "file_extension": ".py",
   "mimetype": "text/x-python",
   "name": "python",
   "nbconvert_exporter": "python",
   "pygments_lexer": "ipython3",
   "version": "3.9.13"
  }
 },
 "nbformat": 4,
 "nbformat_minor": 5
}
