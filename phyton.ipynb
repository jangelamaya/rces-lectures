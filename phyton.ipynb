{
 "cells": [
  {
   "cell_type": "markdown",
   "id": "2de34aa5-5ad2-4647-97ef-3ef33c636956",
   "metadata": {},
   "source": [
    "# Basic variables"
   ]
  },
  {
   "cell_type": "code",
   "execution_count": 17,
   "id": "c2f0f3bc-4de0-4c44-be14-c94afd872a20",
   "metadata": {},
   "outputs": [],
   "source": [
    "b=\"hello\""
   ]
  },
  {
   "cell_type": "code",
   "execution_count": 18,
   "id": "1f6a852b-2f81-4d69-8887-a32d75ee3210",
   "metadata": {},
   "outputs": [],
   "source": [
    "a=1"
   ]
  },
  {
   "cell_type": "code",
   "execution_count": 4,
   "id": "02477f6f-78dc-4346-868d-f3aee0c60b24",
   "metadata": {},
   "outputs": [
    {
     "name": "stdout",
     "output_type": "stream",
     "text": [
      "1\n"
     ]
    }
   ],
   "source": [
    "print(a)"
   ]
  },
  {
   "cell_type": "code",
   "execution_count": 5,
   "id": "3811e48a-b4d1-4f5f-94d1-c5c94def6f2b",
   "metadata": {},
   "outputs": [
    {
     "name": "stdout",
     "output_type": "stream",
     "text": [
      "1 hello\n"
     ]
    }
   ],
   "source": [
    "print(a,b)"
   ]
  },
  {
   "cell_type": "code",
   "execution_count": 6,
   "id": "a844ec56-02d0-4dd6-aa00-36856e300367",
   "metadata": {},
   "outputs": [
    {
     "data": {
      "text/plain": [
       "int"
      ]
     },
     "execution_count": 6,
     "metadata": {},
     "output_type": "execute_result"
    }
   ],
   "source": [
    "\n",
    "type(a)"
   ]
  },
  {
   "cell_type": "code",
   "execution_count": 7,
   "id": "d776f556-90f2-449e-8f26-775b19bffb44",
   "metadata": {},
   "outputs": [
    {
     "data": {
      "text/plain": [
       "str"
      ]
     },
     "execution_count": 7,
     "metadata": {},
     "output_type": "execute_result"
    }
   ],
   "source": [
    "type (b)"
   ]
  },
  {
   "cell_type": "code",
   "execution_count": 8,
   "id": "5f5f0e89-2c52-415e-9e0a-4e1210fae0b0",
   "metadata": {},
   "outputs": [
    {
     "data": {
      "text/plain": [
       "['__abs__',\n",
       " '__add__',\n",
       " '__and__',\n",
       " '__bool__',\n",
       " '__ceil__',\n",
       " '__class__',\n",
       " '__delattr__',\n",
       " '__dir__',\n",
       " '__divmod__',\n",
       " '__doc__',\n",
       " '__eq__',\n",
       " '__float__',\n",
       " '__floor__',\n",
       " '__floordiv__',\n",
       " '__format__',\n",
       " '__ge__',\n",
       " '__getattribute__',\n",
       " '__getnewargs__',\n",
       " '__gt__',\n",
       " '__hash__',\n",
       " '__index__',\n",
       " '__init__',\n",
       " '__init_subclass__',\n",
       " '__int__',\n",
       " '__invert__',\n",
       " '__le__',\n",
       " '__lshift__',\n",
       " '__lt__',\n",
       " '__mod__',\n",
       " '__mul__',\n",
       " '__ne__',\n",
       " '__neg__',\n",
       " '__new__',\n",
       " '__or__',\n",
       " '__pos__',\n",
       " '__pow__',\n",
       " '__radd__',\n",
       " '__rand__',\n",
       " '__rdivmod__',\n",
       " '__reduce__',\n",
       " '__reduce_ex__',\n",
       " '__repr__',\n",
       " '__rfloordiv__',\n",
       " '__rlshift__',\n",
       " '__rmod__',\n",
       " '__rmul__',\n",
       " '__ror__',\n",
       " '__round__',\n",
       " '__rpow__',\n",
       " '__rrshift__',\n",
       " '__rshift__',\n",
       " '__rsub__',\n",
       " '__rtruediv__',\n",
       " '__rxor__',\n",
       " '__setattr__',\n",
       " '__sizeof__',\n",
       " '__str__',\n",
       " '__sub__',\n",
       " '__subclasshook__',\n",
       " '__truediv__',\n",
       " '__trunc__',\n",
       " '__xor__',\n",
       " 'as_integer_ratio',\n",
       " 'bit_length',\n",
       " 'conjugate',\n",
       " 'denominator',\n",
       " 'from_bytes',\n",
       " 'imag',\n",
       " 'numerator',\n",
       " 'real',\n",
       " 'to_bytes']"
      ]
     },
     "execution_count": 8,
     "metadata": {},
     "output_type": "execute_result"
    }
   ],
   "source": [
    "dir(a)"
   ]
  },
  {
   "cell_type": "code",
   "execution_count": 11,
   "id": "937c3e41-a8f8-470b-8381-9f629018fbb6",
   "metadata": {},
   "outputs": [
    {
     "data": {
      "text/plain": [
       "'hello'"
      ]
     },
     "execution_count": 11,
     "metadata": {},
     "output_type": "execute_result"
    }
   ],
   "source": [
    "b"
   ]
  },
  {
   "cell_type": "code",
   "execution_count": 10,
   "id": "ae7bcb45-e0a6-4765-a818-4ee70beb0837",
   "metadata": {},
   "outputs": [
    {
     "data": {
      "text/plain": [
       "'Hello'"
      ]
     },
     "execution_count": 10,
     "metadata": {},
     "output_type": "execute_result"
    }
   ],
   "source": [
    "b.capitalize()"
   ]
  },
  {
   "cell_type": "code",
   "execution_count": 12,
   "id": "e1f859a6-dfb7-492d-9cca-d52af97080d3",
   "metadata": {},
   "outputs": [
    {
     "data": {
      "text/plain": [
       "3"
      ]
     },
     "execution_count": 12,
     "metadata": {},
     "output_type": "execute_result"
    }
   ],
   "source": [
    "b.rfind('l')"
   ]
  },
  {
   "cell_type": "code",
   "execution_count": 13,
   "id": "734244ce-be1e-43b5-9b62-7666ef9a4722",
   "metadata": {},
   "outputs": [
    {
     "name": "stdout",
     "output_type": "stream",
     "text": [
      "4\n"
     ]
    }
   ],
   "source": [
    "print (a+3)"
   ]
  },
  {
   "cell_type": "code",
   "execution_count": 14,
   "id": "d137c3bf-3951-4b14-9efa-96c4fda468ff",
   "metadata": {},
   "outputs": [
    {
     "ename": "TypeError",
     "evalue": "unsupported operand type(s) for +: 'int' and 'str'",
     "output_type": "error",
     "traceback": [
      "\u001b[0;31m---------------------------------------------------------------------------\u001b[0m",
      "\u001b[0;31mTypeError\u001b[0m                                 Traceback (most recent call last)",
      "Input \u001b[0;32mIn [14]\u001b[0m, in \u001b[0;36m<cell line: 1>\u001b[0;34m()\u001b[0m\n\u001b[0;32m----> 1\u001b[0m \u001b[38;5;28mprint\u001b[39m(\u001b[43ma\u001b[49m\u001b[38;5;241;43m+\u001b[39;49m\u001b[43mb\u001b[49m)\n",
      "\u001b[0;31mTypeError\u001b[0m: unsupported operand type(s) for +: 'int' and 'str'"
     ]
    }
   ],
   "source": [
    "print(a+b) #not possible"
   ]
  },
  {
   "cell_type": "code",
   "execution_count": 22,
   "id": "fe478abe-20d8-4887-9180-e041b8c0bb18",
   "metadata": {},
   "outputs": [
    {
     "data": {
      "text/plain": [
       "50"
      ]
     },
     "execution_count": 22,
     "metadata": {},
     "output_type": "execute_result"
    }
   ],
   "source": [
    "5*10"
   ]
  },
  {
   "cell_type": "code",
   "execution_count": 23,
   "id": "588883de-c13f-41e7-bfaf-5754acee442e",
   "metadata": {},
   "outputs": [
    {
     "data": {
      "text/plain": [
       "0.5"
      ]
     },
     "execution_count": 23,
     "metadata": {},
     "output_type": "execute_result"
    }
   ],
   "source": [
    "1/2"
   ]
  },
  {
   "cell_type": "code",
   "execution_count": 24,
   "id": "a6b32219-ee74-42e8-af9c-d2a17a9c8e10",
   "metadata": {},
   "outputs": [],
   "source": [
    "d=1/2"
   ]
  },
  {
   "cell_type": "code",
   "execution_count": 25,
   "id": "8f48cf19-8021-4463-ada2-e2fa132ea42c",
   "metadata": {},
   "outputs": [
    {
     "data": {
      "text/plain": [
       "float"
      ]
     },
     "execution_count": 25,
     "metadata": {},
     "output_type": "execute_result"
    }
   ],
   "source": [
    "type(d)\n"
   ]
  },
  {
   "cell_type": "code",
   "execution_count": 26,
   "id": "1e6b3115-4aa8-47a5-873c-327dc5215834",
   "metadata": {},
   "outputs": [
    {
     "data": {
      "text/plain": [
       "16"
      ]
     },
     "execution_count": 26,
     "metadata": {},
     "output_type": "execute_result"
    }
   ],
   "source": [
    "2**4"
   ]
  },
  {
   "cell_type": "code",
   "execution_count": 27,
   "id": "fb04d8ab-0d2e-4ccb-bb11-e8c9b7f23c7e",
   "metadata": {},
   "outputs": [
    {
     "data": {
      "text/plain": [
       "1"
      ]
     },
     "execution_count": 27,
     "metadata": {},
     "output_type": "execute_result"
    }
   ],
   "source": [
    "round(9/10)"
   ]
  },
  {
   "cell_type": "code",
   "execution_count": 28,
   "id": "8a652244-236a-447b-a400-2eb77143d576",
   "metadata": {},
   "outputs": [
    {
     "data": {
      "text/plain": [
       "int"
      ]
     },
     "execution_count": 28,
     "metadata": {},
     "output_type": "execute_result"
    }
   ],
   "source": [
    "type(round(9/10))\n"
   ]
  },
  {
   "cell_type": "code",
   "execution_count": 29,
   "id": "12359836-fd41-4285-848a-4ef78eeeee59",
   "metadata": {},
   "outputs": [
    {
     "data": {
      "text/plain": [
       "float"
      ]
     },
     "execution_count": 29,
     "metadata": {},
     "output_type": "execute_result"
    }
   ],
   "source": [
    "type(9/10)\n"
   ]
  },
  {
   "cell_type": "code",
   "execution_count": 30,
   "id": "2535c2b1-b518-4498-923d-a43edb2bf086",
   "metadata": {},
   "outputs": [
    {
     "data": {
      "text/plain": [
       "(-0.2+0.4j)"
      ]
     },
     "execution_count": 30,
     "metadata": {},
     "output_type": "execute_result"
    }
   ],
   "source": [
    "(1+2j)/(3-4j)"
   ]
  },
  {
   "cell_type": "code",
   "execution_count": 31,
   "id": "b2748ac4-1f9d-4893-b235-3513d43652e0",
   "metadata": {},
   "outputs": [
    {
     "data": {
      "text/plain": [
       "True"
      ]
     },
     "execution_count": 31,
     "metadata": {},
     "output_type": "execute_result"
    }
   ],
   "source": [
    "True and True"
   ]
  },
  {
   "cell_type": "code",
   "execution_count": 32,
   "id": "76e011f6-a243-4eca-81a4-f2b0c3db58ae",
   "metadata": {},
   "outputs": [
    {
     "data": {
      "text/plain": [
       "False"
      ]
     },
     "execution_count": 32,
     "metadata": {},
     "output_type": "execute_result"
    }
   ],
   "source": [
    "True and False"
   ]
  },
  {
   "cell_type": "markdown",
   "id": "8a5e65c7-8e06-4313-9102-4d69516f7fa2",
   "metadata": {},
   "source": [
    "# Conditionals"
   ]
  },
  {
   "cell_type": "code",
   "execution_count": 45,
   "id": "517958de-4a1e-4222-bbc1-36670bf34727",
   "metadata": {},
   "outputs": [
    {
     "name": "stdout",
     "output_type": "stream",
     "text": [
      "Zero\n"
     ]
    }
   ],
   "source": [
    "x=200\n",
    "if x>0:\n",
    "    print('Positive number')\n",
    "elif x<0:\n",
    "    print('Negative number')\n",
    "else:\n",
    "    print('Zero')"
   ]
  },
  {
   "cell_type": "code",
   "execution_count": 46,
   "id": "7b6b5bab-67c4-456d-8822-b32de724163b",
   "metadata": {},
   "outputs": [
    {
     "name": "stdout",
     "output_type": "stream",
     "text": [
      "Variable   Type     Data/Info\n",
      "-----------------------------\n",
      "a          int      1\n",
      "b          str      hello\n",
      "d          float    0.5\n",
      "x          int      0\n"
     ]
    }
   ],
   "source": [
    "whos"
   ]
  },
  {
   "cell_type": "markdown",
   "id": "07179d7f-a788-4942-8430-f8c564d892be",
   "metadata": {},
   "source": [
    "# More Flow Control"
   ]
  },
  {
   "cell_type": "code",
   "execution_count": 85,
   "id": "9126d4db-e126-4f4b-bddd-d8d257986ff7",
   "metadata": {},
   "outputs": [
    {
     "name": "stdout",
     "output_type": "stream",
     "text": [
      "10\n"
     ]
    }
   ],
   "source": [
    "count=0\n",
    "while count<10:\n",
    "    count=count+1\n",
    "    #count =+1\n",
    "print (count)\n"
   ]
  },
  {
   "cell_type": "code",
   "execution_count": 86,
   "id": "13c022c7-3cd5-4934-88a2-9ece77324d55",
   "metadata": {},
   "outputs": [
    {
     "name": "stdout",
     "output_type": "stream",
     "text": [
      "0\n",
      "1\n",
      "2\n",
      "3\n",
      "4\n"
     ]
    }
   ],
   "source": [
    "for i in range(5):\n",
    "    print(i)"
   ]
  },
  {
   "cell_type": "code",
   "execution_count": 88,
   "id": "a5993c86-395b-432e-b3eb-0accab39b05d",
   "metadata": {},
   "outputs": [
    {
     "data": {
      "text/plain": [
       "range(0, 5)"
      ]
     },
     "execution_count": 88,
     "metadata": {},
     "output_type": "execute_result"
    }
   ],
   "source": [
    "range(5)"
   ]
  },
  {
   "cell_type": "code",
   "execution_count": 52,
   "id": "06fc20ae-45d9-4ff1-ad65-2379bd631796",
   "metadata": {},
   "outputs": [
    {
     "data": {
      "text/plain": [
       "\u001b[0;31mInit signature:\u001b[0m \u001b[0mrange\u001b[0m\u001b[0;34m(\u001b[0m\u001b[0mself\u001b[0m\u001b[0;34m,\u001b[0m \u001b[0;34m/\u001b[0m\u001b[0;34m,\u001b[0m \u001b[0;34m*\u001b[0m\u001b[0margs\u001b[0m\u001b[0;34m,\u001b[0m \u001b[0;34m**\u001b[0m\u001b[0mkwargs\u001b[0m\u001b[0;34m)\u001b[0m\u001b[0;34m\u001b[0m\u001b[0;34m\u001b[0m\u001b[0m\n",
       "\u001b[0;31mDocstring:\u001b[0m     \n",
       "range(stop) -> range object\n",
       "range(start, stop[, step]) -> range object\n",
       "\n",
       "Return an object that produces a sequence of integers from start (inclusive)\n",
       "to stop (exclusive) by step.  range(i, j) produces i, i+1, i+2, ..., j-1.\n",
       "start defaults to 0, and stop is omitted!  range(4) produces 0, 1, 2, 3.\n",
       "These are exactly the valid indices for a list of 4 elements.\n",
       "When step is given, it specifies the increment (or decrement).\n",
       "\u001b[0;31mType:\u001b[0m           type\n",
       "\u001b[0;31mSubclasses:\u001b[0m     \n"
      ]
     },
     "metadata": {},
     "output_type": "display_data"
    }
   ],
   "source": [
    "range?"
   ]
  },
  {
   "cell_type": "code",
   "execution_count": 54,
   "id": "1c8c95e7-802b-401f-93dd-7c617c033f39",
   "metadata": {},
   "outputs": [
    {
     "data": {
      "text/plain": [
       "[4, 5]"
      ]
     },
     "execution_count": 54,
     "metadata": {},
     "output_type": "execute_result"
    }
   ],
   "source": [
    "list(range(4,6))"
   ]
  },
  {
   "cell_type": "markdown",
   "id": "8f4c45d8-acea-48db-9295-39b3f95f7322",
   "metadata": {},
   "source": [
    "# Lists"
   ]
  },
  {
   "cell_type": "code",
   "execution_count": 67,
   "id": "ab023a69-a775-4cab-98f8-2c6c528a8412",
   "metadata": {},
   "outputs": [],
   "source": [
    "l=['dog','cat','fish']"
   ]
  },
  {
   "cell_type": "code",
   "execution_count": 68,
   "id": "244fc361-1e21-49c3-8c84-2bfd9ed779ff",
   "metadata": {},
   "outputs": [
    {
     "data": {
      "text/plain": [
       "['dog', 'cat', 'fish']"
      ]
     },
     "execution_count": 68,
     "metadata": {},
     "output_type": "execute_result"
    }
   ],
   "source": [
    "l"
   ]
  },
  {
   "cell_type": "code",
   "execution_count": 69,
   "id": "1eee8a02-2cd4-477b-9388-75f1dc542207",
   "metadata": {},
   "outputs": [
    {
     "data": {
      "text/plain": [
       "['cat', 'dog', 'fish']"
      ]
     },
     "execution_count": 69,
     "metadata": {},
     "output_type": "execute_result"
    }
   ],
   "source": [
    "l.sort()\n",
    "l"
   ]
  },
  {
   "cell_type": "code",
   "execution_count": 70,
   "id": "601fa862-5b16-4a0b-8f66-f510a924402c",
   "metadata": {},
   "outputs": [
    {
     "data": {
      "text/plain": [
       "\u001b[0;31mSignature:\u001b[0m \u001b[0ml\u001b[0m\u001b[0;34m.\u001b[0m\u001b[0mappend\u001b[0m\u001b[0;34m(\u001b[0m\u001b[0mobject\u001b[0m\u001b[0;34m,\u001b[0m \u001b[0;34m/\u001b[0m\u001b[0;34m)\u001b[0m\u001b[0;34m\u001b[0m\u001b[0;34m\u001b[0m\u001b[0m\n",
       "\u001b[0;31mDocstring:\u001b[0m Append object to the end of the list.\n",
       "\u001b[0;31mType:\u001b[0m      builtin_function_or_method\n"
      ]
     },
     "metadata": {},
     "output_type": "display_data"
    }
   ],
   "source": [
    "l.append?"
   ]
  },
  {
   "cell_type": "code",
   "execution_count": 71,
   "id": "31ae72a6-c6c5-4bf9-a856-acbb1af79f68",
   "metadata": {},
   "outputs": [],
   "source": [
    "l.append('snake')"
   ]
  },
  {
   "cell_type": "code",
   "execution_count": 72,
   "id": "ca1da4e3-2d57-4f19-9fcf-5dea7f84eb94",
   "metadata": {},
   "outputs": [
    {
     "data": {
      "text/plain": [
       "['cat', 'dog', 'fish', 'snake']"
      ]
     },
     "execution_count": 72,
     "metadata": {},
     "output_type": "execute_result"
    }
   ],
   "source": [
    "l"
   ]
  },
  {
   "cell_type": "code",
   "execution_count": 73,
   "id": "15a88173-2365-4205-8bb9-5555fdfaff01",
   "metadata": {},
   "outputs": [],
   "source": [
    "l.append(5)"
   ]
  },
  {
   "cell_type": "code",
   "execution_count": 74,
   "id": "9a6322ee-8334-412f-861a-02527f6d2f21",
   "metadata": {},
   "outputs": [
    {
     "data": {
      "text/plain": [
       "['cat', 'dog', 'fish', 'snake', 5]"
      ]
     },
     "execution_count": 74,
     "metadata": {},
     "output_type": "execute_result"
    }
   ],
   "source": [
    "l"
   ]
  },
  {
   "cell_type": "code",
   "execution_count": 75,
   "id": "aff9a4a6-a2fa-489c-b5d0-ba138b3a17ae",
   "metadata": {},
   "outputs": [],
   "source": [
    "x=list(range(5))\n",
    "y=list(range(10,15))\n",
    "z=x+y"
   ]
  },
  {
   "cell_type": "code",
   "execution_count": 76,
   "id": "5de05fce-9652-4f23-ac15-7767abffac21",
   "metadata": {},
   "outputs": [
    {
     "data": {
      "text/plain": [
       "[0, 1, 2, 3, 4, 10, 11, 12, 13, 14]"
      ]
     },
     "execution_count": 76,
     "metadata": {},
     "output_type": "execute_result"
    }
   ],
   "source": [
    "z"
   ]
  },
  {
   "cell_type": "markdown",
   "id": "4592a65f-2514-4302-9cff-958fd305ae76",
   "metadata": {},
   "source": [
    "# Forcing types"
   ]
  },
  {
   "cell_type": "code",
   "execution_count": 77,
   "id": "f34c5b19-2261-46b6-ada5-23ea14963e04",
   "metadata": {},
   "outputs": [],
   "source": [
    "a=1\n"
   ]
  },
  {
   "cell_type": "code",
   "execution_count": 78,
   "id": "813ecda5-b194-4d19-b128-d7b158cc3442",
   "metadata": {},
   "outputs": [
    {
     "data": {
      "text/plain": [
       "int"
      ]
     },
     "execution_count": 78,
     "metadata": {},
     "output_type": "execute_result"
    }
   ],
   "source": [
    "type(a)"
   ]
  },
  {
   "cell_type": "code",
   "execution_count": 79,
   "id": "bcd2d7a0-e593-43ee-ad54-720cfff6000b",
   "metadata": {},
   "outputs": [],
   "source": [
    "a=float(1)"
   ]
  },
  {
   "cell_type": "code",
   "execution_count": 80,
   "id": "68e7fb39-8bee-4fa9-9afc-9e08bc8b93f8",
   "metadata": {},
   "outputs": [
    {
     "data": {
      "text/plain": [
       "1.0"
      ]
     },
     "execution_count": 80,
     "metadata": {},
     "output_type": "execute_result"
    }
   ],
   "source": [
    "a"
   ]
  },
  {
   "cell_type": "code",
   "execution_count": 81,
   "id": "ee336c29-b005-4ed0-8b02-8cb8ac921428",
   "metadata": {},
   "outputs": [],
   "source": [
    "a=int(1/2)"
   ]
  },
  {
   "cell_type": "code",
   "execution_count": 82,
   "id": "5da3a461-dd2a-4f06-ae78-0f8027b974f6",
   "metadata": {},
   "outputs": [
    {
     "data": {
      "text/plain": [
       "0"
      ]
     },
     "execution_count": 82,
     "metadata": {},
     "output_type": "execute_result"
    }
   ],
   "source": [
    "a"
   ]
  },
  {
   "cell_type": "code",
   "execution_count": 83,
   "id": "65e2db1d-8bd8-4422-866f-9036346b4dbf",
   "metadata": {},
   "outputs": [],
   "source": [
    "a=float(round(9/10))"
   ]
  },
  {
   "cell_type": "code",
   "execution_count": 84,
   "id": "3e844123-0cb4-4f4d-b48d-ff2dffaee535",
   "metadata": {},
   "outputs": [
    {
     "data": {
      "text/plain": [
       "1.0"
      ]
     },
     "execution_count": 84,
     "metadata": {},
     "output_type": "execute_result"
    }
   ],
   "source": [
    "a"
   ]
  },
  {
   "cell_type": "code",
   "execution_count": null,
   "id": "300e6dac-9d85-4475-8f60-682e192b6648",
   "metadata": {},
   "outputs": [],
   "source": []
  }
 ],
 "metadata": {
  "kernelspec": {
   "display_name": "Python 3 (ipykernel)",
   "language": "python",
   "name": "python3"
  },
  "language_info": {
   "codemirror_mode": {
    "name": "ipython",
    "version": 3
   },
   "file_extension": ".py",
   "mimetype": "text/x-python",
   "name": "python",
   "nbconvert_exporter": "python",
   "pygments_lexer": "ipython3",
   "version": "3.9.13"
  }
 },
 "nbformat": 4,
 "nbformat_minor": 5
}
